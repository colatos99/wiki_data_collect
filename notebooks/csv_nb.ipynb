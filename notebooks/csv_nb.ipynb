{
 "cells": [
  {
   "cell_type": "markdown",
   "metadata": {},
   "source": [
    "Imports"
   ]
  },
  {
   "cell_type": "code",
   "execution_count": null,
   "metadata": {},
   "outputs": [],
   "source": [
    "import file_handler as fh\n",
    "import csv_functions as cf"
   ]
  },
  {
   "attachments": {},
   "cell_type": "markdown",
   "metadata": {},
   "source": [
    "create initial dataframe"
   ]
  },
  {
   "cell_type": "code",
   "execution_count": null,
   "metadata": {},
   "outputs": [],
   "source": [
    "df = cf.create_main_df()"
   ]
  },
  {
   "cell_type": "markdown",
   "metadata": {},
   "source": [
    "add page infor to dataframe"
   ]
  },
  {
   "cell_type": "code",
   "execution_count": null,
   "metadata": {},
   "outputs": [],
   "source": [
    "fh.show_csv_copy_info()\n",
    "fh.write_csv_main(df)"
   ]
  },
  {
   "cell_type": "code",
   "execution_count": null,
   "metadata": {},
   "outputs": [],
   "source": [
    "info = fh.show_csv_copy_info()\n",
    "info[0][0]"
   ]
  },
  {
   "attachments": {},
   "cell_type": "markdown",
   "metadata": {},
   "source": [
    "Add Item to Dataframe"
   ]
  },
  {
   "cell_type": "markdown",
   "metadata": {},
   "source": []
  },
  {
   "cell_type": "code",
   "execution_count": null,
   "metadata": {},
   "outputs": [],
   "source": [
    "fh.write_csv_main()"
   ]
  },
  {
   "attachments": {},
   "cell_type": "markdown",
   "metadata": {},
   "source": [
    "read in wiki page and update main csv file"
   ]
  },
  {
   "cell_type": "code",
   "execution_count": 2,
   "metadata": {},
   "outputs": [
    {
     "ename": "AttributeError",
     "evalue": "'NoneType' object has no attribute 'to_csv'",
     "output_type": "error",
     "traceback": [
      "\u001b[1;31m---------------------------------------------------------------------------\u001b[0m",
      "\u001b[1;31mAttributeError\u001b[0m                            Traceback (most recent call last)",
      "Cell \u001b[1;32mIn[2], line 12\u001b[0m\n\u001b[0;32m     10\u001b[0m df \u001b[39m=\u001b[39m cf\u001b[39m.\u001b[39mupdate_main_csv(csv_main_df,wiki_page_name, word_count,section_count)\n\u001b[0;32m     11\u001b[0m df\n\u001b[1;32m---> 12\u001b[0m fh\u001b[39m.\u001b[39;49mwrite_csv_main(df)\n",
      "File \u001b[1;32me:\\python_projects\\wiki_data_collect\\notebooks\\file_handler.py:38\u001b[0m, in \u001b[0;36mwrite_csv_main\u001b[1;34m(df_to_write)\u001b[0m\n\u001b[0;32m     37\u001b[0m \u001b[39mdef\u001b[39;00m \u001b[39mwrite_csv_main\u001b[39m(df_to_write):\n\u001b[1;32m---> 38\u001b[0m     df_to_write\u001b[39m.\u001b[39;49mto_csv(data_path_full \u001b[39m+\u001b[39m \u001b[39m\"\u001b[39m\u001b[39mcsv_main.csv\u001b[39m\u001b[39m\"\u001b[39m)\n\u001b[0;32m     39\u001b[0m \u001b[39m    \u001b[39m\u001b[39m'''\u001b[39;00m\n\u001b[0;32m     40\u001b[0m \u001b[39m    copy_info_df = pd.read_pickle(data_path_full  + \"csv_copy_num_store.pickle\")\u001b[39;00m\n\u001b[0;32m     41\u001b[0m \u001b[39m    \u001b[39;00m\n\u001b[1;32m   (...)\u001b[0m\n\u001b[0;32m     46\u001b[0m \u001b[39m    copy_info_df.to_pickle(data_path_full + \"csv_copy_num_store.pickle\")\u001b[39;00m\n\u001b[0;32m     47\u001b[0m \u001b[39m    '''\u001b[39;00m\n\u001b[0;32m     48\u001b[0m     \u001b[39mdef\u001b[39;00m \u001b[39mread_page_text\u001b[39m(page):\n",
      "\u001b[1;31mAttributeError\u001b[0m: 'NoneType' object has no attribute 'to_csv'"
     ]
    }
   ],
   "source": [
    "wiki_page_name = input(\"Enter wiki page to add: \")\n",
    "page_text = fh.read_page_text(wiki_page_name)\n",
    "word_count = cf.count_words(page_text)\n",
    "word_count\n",
    "csv_main_df = fh.get_csv_main()\n",
    "word_count = cf.count_words(page_text)\n",
    "section_count = cf.count_sections(page_text)\n",
    "word_count\n",
    "section_count\n",
    "df = cf.update_main_csv(csv_main_df,wiki_page_name, word_count,section_count)\n",
    "df\n",
    "fh.write_csv_main(df)"
   ]
  },
  {
   "cell_type": "code",
   "execution_count": null,
   "metadata": {},
   "outputs": [],
   "source": []
  }
 ],
 "metadata": {
  "kernelspec": {
   "display_name": "wiki_collect_env",
   "language": "python",
   "name": "python3"
  },
  "language_info": {
   "codemirror_mode": {
    "name": "ipython",
    "version": 3
   },
   "file_extension": ".py",
   "mimetype": "text/x-python",
   "name": "python",
   "nbconvert_exporter": "python",
   "pygments_lexer": "ipython3",
   "version": "3.11.1"
  },
  "orig_nbformat": 4,
  "vscode": {
   "interpreter": {
    "hash": "894f4999c1454811e6946892520ff27c55827db7c92adb62760ac7b90d160de7"
   }
  }
 },
 "nbformat": 4,
 "nbformat_minor": 2
}
