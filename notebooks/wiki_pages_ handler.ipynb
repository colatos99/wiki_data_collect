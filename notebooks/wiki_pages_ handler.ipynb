{
 "cells": [
  {
   "cell_type": "markdown",
   "metadata": {},
   "source": [
    "Initialize Program"
   ]
  },
  {
   "cell_type": "code",
   "execution_count": null,
   "metadata": {},
   "outputs": [],
   "source": [
    "import wiki_collect_functions as wcf\n",
    "import file_handler as fh"
   ]
  },
  {
   "cell_type": "markdown",
   "metadata": {},
   "source": []
  },
  {
   "cell_type": "markdown",
   "metadata": {},
   "source": []
  },
  {
   "attachments": {},
   "cell_type": "markdown",
   "metadata": {},
   "source": [
    "Pull text from Wikipedia and save as text file\n",
    "\n"
   ]
  },
  {
   "cell_type": "code",
   "execution_count": 2,
   "metadata": {},
   "outputs": [],
   "source": [
    "input_page = input(\"Enter Page Name: \")"
   ]
  },
  {
   "cell_type": "code",
   "execution_count": 4,
   "metadata": {},
   "outputs": [
    {
     "name": "stdout",
     "output_type": "stream",
     "text": [
      "Page is valid\n"
     ]
    },
    {
     "ename": "UnsupportedOperation",
     "evalue": "not readable",
     "output_type": "error",
     "traceback": [
      "\u001b[1;31m---------------------------------------------------------------------------\u001b[0m",
      "\u001b[1;31mUnsupportedOperation\u001b[0m                      Traceback (most recent call last)",
      "Cell \u001b[1;32mIn[4], line 13\u001b[0m\n\u001b[0;32m     10\u001b[0m \u001b[39mprint\u001b[39m(\u001b[39m\"\u001b[39m\u001b[39mPage is valid\u001b[39m\u001b[39m\"\u001b[39m)\n\u001b[0;32m     11\u001b[0m text \u001b[39m=\u001b[39m \u001b[39mstr\u001b[39m(page\u001b[39m.\u001b[39mtext)\n\u001b[1;32m---> 13\u001b[0m fh\u001b[39m.\u001b[39;49mwrite_page_text(input_page, text)\n",
      "File \u001b[1;32me:\\python_projects\\wiki_data_collect\\notebooks\\file_handler.py:18\u001b[0m, in \u001b[0;36mwrite_page_text\u001b[1;34m(page_name, page)\u001b[0m\n\u001b[0;32m     16\u001b[0m \u001b[39mdef\u001b[39;00m  \u001b[39mwrite_page_text\u001b[39m(page_name\u001b[39m=\u001b[39m\u001b[39mstr\u001b[39m, page\u001b[39m=\u001b[39m\u001b[39mstr\u001b[39m):\n\u001b[0;32m     17\u001b[0m     \u001b[39mwith\u001b[39;00m \u001b[39mopen\u001b[39m( page_path_full \u001b[39m+\u001b[39m \u001b[39mstr\u001b[39m(page_name) \u001b[39m+\u001b[39m \u001b[39m\"\u001b[39m\u001b[39m.txt\u001b[39m\u001b[39m\"\u001b[39m, \u001b[39m'\u001b[39m\u001b[39mx\u001b[39m\u001b[39m'\u001b[39m, encoding\u001b[39m=\u001b[39m \u001b[39m'\u001b[39m\u001b[39mutf-8\u001b[39m\u001b[39m'\u001b[39m ) \u001b[39mas\u001b[39;00m page_file:\n\u001b[1;32m---> 18\u001b[0m         \u001b[39mif\u001b[39;00m page_file\u001b[39m.\u001b[39;49mreadlines() \u001b[39m!=\u001b[39m \u001b[39mNone\u001b[39;00m:\n\u001b[0;32m     19\u001b[0m             \u001b[39mprint\u001b[39m(\u001b[39m\"\u001b[39m\u001b[39mFile Already exists!\u001b[39m\u001b[39m\"\u001b[39m)\n\u001b[0;32m     20\u001b[0m         \u001b[39melse\u001b[39;00m:\n",
      "\u001b[1;31mUnsupportedOperation\u001b[0m: not readable"
     ]
    }
   ],
   "source": [
    "\n",
    "try:\n",
    "    page = wcf.get_page_full(input_page)\n",
    "except:\n",
    "    \"An error occured.\"\n",
    "if len(page.text) < 1:\n",
    "    print(\"Page does not exist.\")\n",
    "else:\n",
    "    #print(page.text)\n",
    "    text_list = []\n",
    "    print(\"Page is valid\")\n",
    "    text = str(page.text)\n",
    "        \n",
    "    fh.write_page_text(input_page, text)"
   ]
  },
  {
   "cell_type": "code",
   "execution_count": null,
   "metadata": {},
   "outputs": [],
   "source": [
    "\n",
    "fh.create_init_main_csv()"
   ]
  },
  {
   "cell_type": "code",
   "execution_count": null,
   "metadata": {},
   "outputs": [],
   "source": [
    "fh.show_csv_copy_info()"
   ]
  },
  {
   "cell_type": "code",
   "execution_count": null,
   "metadata": {},
   "outputs": [],
   "source": []
  },
  {
   "cell_type": "code",
   "execution_count": null,
   "metadata": {},
   "outputs": [],
   "source": []
  }
 ],
 "metadata": {
  "kernelspec": {
   "display_name": "wiki_collect_env",
   "language": "python",
   "name": "python3"
  },
  "language_info": {
   "codemirror_mode": {
    "name": "ipython",
    "version": 3
   },
   "file_extension": ".py",
   "mimetype": "text/x-python",
   "name": "python",
   "nbconvert_exporter": "python",
   "pygments_lexer": "ipython3",
   "version": "3.11.1"
  },
  "orig_nbformat": 4,
  "vscode": {
   "interpreter": {
    "hash": "894f4999c1454811e6946892520ff27c55827db7c92adb62760ac7b90d160de7"
   }
  }
 },
 "nbformat": 4,
 "nbformat_minor": 2
}
