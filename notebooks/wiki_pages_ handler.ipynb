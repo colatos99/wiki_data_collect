{
 "cells": [
  {
   "cell_type": "markdown",
   "metadata": {},
   "source": [
    "Initialize Program"
   ]
  },
  {
   "cell_type": "code",
   "execution_count": 2,
   "metadata": {},
   "outputs": [
    {
     "ename": "NameError",
     "evalue": "name 'language' is not defined",
     "output_type": "error",
     "traceback": [
      "\u001b[1;31m---------------------------------------------------------------------------\u001b[0m",
      "\u001b[1;31mNameError\u001b[0m                                 Traceback (most recent call last)",
      "Cell \u001b[1;32mIn[2], line 1\u001b[0m\n\u001b[1;32m----> 1\u001b[0m \u001b[39mimport\u001b[39;00m \u001b[39mwiki_collect_functions\u001b[39;00m\n",
      "File \u001b[1;32me:\\python_projects\\wiki_data_collect\\notebooks\\wiki_collect_functions.py:7\u001b[0m\n\u001b[0;32m      1\u001b[0m \u001b[39m# get Wikipediapage function\u001b[39;00m\n\u001b[0;32m      2\u001b[0m \u001b[39mimport\u001b[39;00m \u001b[39mwikipediaapi\u001b[39;00m\n\u001b[0;32m      6\u001b[0m wiki_wiki \u001b[39m=\u001b[39m wikipediaapi\u001b[39m.\u001b[39mWikipedia(\n\u001b[1;32m----> 7\u001b[0m     language\u001b[39m==\u001b[39m\u001b[39m'\u001b[39m\u001b[39men\u001b[39m\u001b[39m'\u001b[39m,\n\u001b[0;32m      8\u001b[0m     extract_format\u001b[39m=\u001b[39mwikipediaapi\u001b[39m.\u001b[39mExtractFormat\u001b[39m.\u001b[39mWIKI\n\u001b[0;32m      9\u001b[0m )\n\u001b[0;32m     13\u001b[0m \u001b[39mdef\u001b[39;00m \u001b[39mget_page_full\u001b[39m(wiki_page_name):\n\u001b[0;32m     14\u001b[0m     p_wiki \u001b[39m=\u001b[39m wiki_wiki\u001b[39m.\u001b[39mpage(wiki_page_name) \n",
      "\u001b[1;31mNameError\u001b[0m: name 'language' is not defined"
     ]
    }
   ],
   "source": [
    "\n",
    "import wiki_collect_functions\n",
    "\n"
   ]
  },
  {
   "cell_type": "code",
   "execution_count": null,
   "metadata": {},
   "outputs": [],
   "source": []
  }
 ],
 "metadata": {
  "kernelspec": {
   "display_name": "wiki_collect_env",
   "language": "python",
   "name": "python3"
  },
  "language_info": {
   "codemirror_mode": {
    "name": "ipython",
    "version": 3
   },
   "file_extension": ".py",
   "mimetype": "text/x-python",
   "name": "python",
   "nbconvert_exporter": "python",
   "pygments_lexer": "ipython3",
   "version": "3.11.1"
  },
  "orig_nbformat": 4,
  "vscode": {
   "interpreter": {
    "hash": "894f4999c1454811e6946892520ff27c55827db7c92adb62760ac7b90d160de7"
   }
  }
 },
 "nbformat": 4,
 "nbformat_minor": 2
}
